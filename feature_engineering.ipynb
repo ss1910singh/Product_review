{
 "cells": [
  {
   "cell_type": "code",
   "execution_count": null,
   "metadata": {},
   "outputs": [],
   "source": [
    "import pandas as pd\n",
    "import os\n",
    "from sklearn.feature_extraction.text import TfidfVectorizer\n",
    "from sklearn.preprocessing import StandardScaler\n",
    "import joblib"
   ]
  },
  {
   "cell_type": "code",
   "execution_count": null,
   "metadata": {},
   "outputs": [],
   "source": [
    "def run_notebook(notebook_path):\n",
    "    from IPython import get_ipython\n",
    "    ipython = get_ipython()\n",
    "    if ipython is None:\n",
    "        raise RuntimeError(\"IPython is not available.\")\n",
    "    else:\n",
    "        ipython.magic('run ' + notebook_path)"
   ]
  },
  {
   "cell_type": "markdown",
   "metadata": {},
   "source": [
    "DATA LOADING...."
   ]
  },
  {
   "cell_type": "code",
   "execution_count": null,
   "metadata": {},
   "outputs": [],
   "source": [
    "cleaned_data_path = 'cleaned_reviews_nltk.csv'\n",
    "if not os.path.exists(cleaned_data_path):\n",
    "    print(\"Cleaned data not found. Running data_preparation.ipynb to generate cleaned data...\")\n",
    "    run_notebook('data_preparation.ipynb') "
   ]
  },
  {
   "cell_type": "code",
   "execution_count": null,
   "metadata": {},
   "outputs": [],
   "source": [
    "df_cleaned = pd.read_csv(cleaned_data_path)\n",
    "print(\"Cleaned Data Loaded:\")\n",
    "df_cleaned.head()"
   ]
  },
  {
   "cell_type": "code",
   "execution_count": null,
   "metadata": {},
   "outputs": [],
   "source": [
    "df_cleaned['Cleaned_Review'] = df_cleaned['Cleaned_Review'].fillna('')"
   ]
  },
  {
   "cell_type": "code",
   "execution_count": null,
   "metadata": {},
   "outputs": [],
   "source": [
    "tfidf_vectorizer = TfidfVectorizer(max_features=5000)\n",
    "X = tfidf_vectorizer.fit_transform(df_cleaned['Cleaned_Review'])\n"
   ]
  },
  {
   "cell_type": "markdown",
   "metadata": {},
   "source": [
    "TF-IDF vectorizer for later use"
   ]
  },
  {
   "cell_type": "code",
   "execution_count": null,
   "metadata": {},
   "outputs": [],
   "source": [
    "joblib.dump(tfidf_vectorizer, 'tfidf_vectorizer.pkl')\n",
    "print(\"TF-IDF Vectorizer saved as 'tfidf_vectorizer.pkl'\")"
   ]
  },
  {
   "cell_type": "code",
   "execution_count": null,
   "metadata": {},
   "outputs": [],
   "source": [
    "scaler = StandardScaler(with_mean=False)  # with_mean=False....im using sparse matrix scaling\n",
    "X_scaled = scaler.fit_transform(X)"
   ]
  },
  {
   "cell_type": "markdown",
   "metadata": {},
   "source": [
    "scaler for later use"
   ]
  },
  {
   "cell_type": "code",
   "execution_count": null,
   "metadata": {},
   "outputs": [],
   "source": [
    "joblib.dump(scaler, 'scaler.pkl')\n",
    "print(\"Scaler saved as 'scaler.pkl'\")"
   ]
  },
  {
   "cell_type": "code",
   "execution_count": null,
   "metadata": {},
   "outputs": [],
   "source": [
    "X_df_scaled = pd.DataFrame(X_scaled.toarray(), columns=tfidf_vectorizer.get_feature_names_out())\n",
    "df_features = pd.concat([df_cleaned[['Reviewer Name', 'Rating']], X_df_scaled], axis=1)\n",
    "print(\"\\nFeature Data Sample:\")\n",
    "df_features.head()"
   ]
  },
  {
   "cell_type": "code",
   "execution_count": null,
   "metadata": {},
   "outputs": [],
   "source": [
    "df_features.to_csv('feature_data.csv', index=False)\n",
    "print(\"Feature data saved as 'feature_data.csv'\")\n",
    "df_saved = pd.read_csv('feature_data.csv')\n",
    "print(\"\\nFeatures Data Loaded from CSV:\")\n",
    "df_saved.head()"
   ]
  }
 ],
 "metadata": {
  "kernelspec": {
   "display_name": "Python 3",
   "language": "python",
   "name": "python3"
  },
  "language_info": {
   "codemirror_mode": {
    "name": "ipython",
    "version": 3
   },
   "file_extension": ".py",
   "mimetype": "text/x-python",
   "name": "python",
   "nbconvert_exporter": "python",
   "pygments_lexer": "ipython3",
   "version": "3.12.0"
  }
 },
 "nbformat": 4,
 "nbformat_minor": 2
}
