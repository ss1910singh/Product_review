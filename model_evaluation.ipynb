{
 "cells": [
  {
   "cell_type": "code",
   "execution_count": 2,
   "metadata": {},
   "outputs": [],
   "source": [
    "import pandas as pd\n",
    "import numpy as np\n",
    "from sklearn.model_selection import train_test_split, cross_val_score\n",
    "from sklearn.ensemble import RandomForestClassifier, GradientBoostingClassifier\n",
    "from sklearn.linear_model import LogisticRegression\n",
    "from sklearn.svm import SVC\n",
    "from sklearn.metrics import classification_report, confusion_matrix, accuracy_score, ConfusionMatrixDisplay\n",
    "import joblib\n",
    "import matplotlib.pyplot as plt"
   ]
  },
  {
   "cell_type": "markdown",
   "metadata": {},
   "source": [
    "Data Loading....."
   ]
  },
  {
   "cell_type": "code",
   "execution_count": 3,
   "metadata": {},
   "outputs": [
    {
     "name": "stdout",
     "output_type": "stream",
     "text": [
      "Columns in feature_data.csv:\n"
     ]
    },
    {
     "data": {
      "text/plain": [
       "Index(['Reviewer Name', 'Rating', '00', '000', '00pm', '01', '02', '03', '04',\n",
       "       '05',\n",
       "       ...\n",
       "       'yourselves', 'youtube', 'yr', 'yrs', 'zero', 'zone', '𝐒𝐮𝐩𝐩𝐨𝐫𝐭_',\n",
       "       '𝒻𝓇𝑒𝑒', '𝕙𝕖𝕝𝕡', '𝕟𝕦𝕞𝕓𝕖𝕣'],\n",
       "      dtype='object', length=5002)"
      ]
     },
     "execution_count": 3,
     "metadata": {},
     "output_type": "execute_result"
    }
   ],
   "source": [
    "df = pd.read_csv('feature_data.csv')\n",
    "print(\"Columns in feature_data.csv:\")\n",
    "df.columns"
   ]
  },
  {
   "cell_type": "code",
   "execution_count": 4,
   "metadata": {},
   "outputs": [],
   "source": [
    "df['Fake_Review'] = df['Rating'].apply(lambda x: 1 if x <= 2 else 0)\n",
    "X = df.drop(columns=['Reviewer Name', 'Fake_Review', 'Rating'])\n",
    "y = df['Fake_Review']"
   ]
  },
  {
   "cell_type": "markdown",
   "metadata": {},
   "source": [
    "spliting data for training and testing data...."
   ]
  },
  {
   "cell_type": "code",
   "execution_count": 5,
   "metadata": {},
   "outputs": [
    {
     "name": "stdout",
     "output_type": "stream",
     "text": [
      "Training samples: 16844, Testing samples: 4211\n"
     ]
    }
   ],
   "source": [
    "X_train, X_test, y_train, y_test = train_test_split(X, y, test_size=0.2, random_state=42)\n",
    "print(f\"Training samples: {len(X_train)}, Testing samples: {len(X_test)}\")"
   ]
  },
  {
   "cell_type": "markdown",
   "metadata": {},
   "source": [
    "taking 4 model for evalution......"
   ]
  },
  {
   "cell_type": "code",
   "execution_count": 6,
   "metadata": {},
   "outputs": [],
   "source": [
    "models = {\n",
    "    'RandomForest': RandomForestClassifier(random_state=42),\n",
    "    'LogisticRegression': LogisticRegression(max_iter=1000, random_state=42),\n",
    "    'SVM': SVC(kernel='linear', random_state=42),\n",
    "    'GradientBoosting': GradientBoostingClassifier(random_state=42)\n",
    "}"
   ]
  },
  {
   "cell_type": "code",
   "execution_count": 7,
   "metadata": {},
   "outputs": [],
   "source": [
    "model_accuracies = {}\n",
    "best_model = None\n",
    "best_accuracy = 0.0\n",
    "best_model_name = ''"
   ]
  },
  {
   "cell_type": "markdown",
   "metadata": {},
   "source": [
    "training and evaluting model and selecting best model with highest accuracy...."
   ]
  },
  {
   "cell_type": "code",
   "execution_count": 8,
   "metadata": {},
   "outputs": [
    {
     "name": "stdout",
     "output_type": "stream",
     "text": [
      "\n",
      "Running model: RandomForest\n",
      "Classification Report:\n",
      "              precision    recall  f1-score   support\n",
      "\n",
      "           0       0.89      0.72      0.79      1290\n",
      "           1       0.88      0.96      0.92      2921\n",
      "\n",
      "    accuracy                           0.89      4211\n",
      "   macro avg       0.89      0.84      0.86      4211\n",
      "weighted avg       0.89      0.89      0.88      4211\n",
      "\n",
      "Confusion Matrix:\n",
      "[[ 923  367]\n",
      " [ 116 2805]]\n",
      "Accuracy: 0.8853\n",
      "------------------------------------------------------------------------------------------------------------------------------------------------------------\n",
      "\n",
      "Running model: LogisticRegression\n",
      "Classification Report:\n",
      "              precision    recall  f1-score   support\n",
      "\n",
      "           0       0.76      0.82      0.78      1290\n",
      "           1       0.92      0.88      0.90      2921\n",
      "\n",
      "    accuracy                           0.86      4211\n",
      "   macro avg       0.84      0.85      0.84      4211\n",
      "weighted avg       0.87      0.86      0.86      4211\n",
      "\n",
      "Confusion Matrix:\n",
      "[[1052  238]\n",
      " [ 339 2582]]\n",
      "Accuracy: 0.8630\n",
      "------------------------------------------------------------------------------------------------------------------------------------------------------------\n",
      "\n",
      "Running model: SVM\n",
      "Classification Report:\n",
      "              precision    recall  f1-score   support\n",
      "\n",
      "           0       0.72      0.81      0.76      1290\n",
      "           1       0.91      0.86      0.89      2921\n",
      "\n",
      "    accuracy                           0.85      4211\n",
      "   macro avg       0.82      0.84      0.83      4211\n",
      "weighted avg       0.85      0.85      0.85      4211\n",
      "\n",
      "Confusion Matrix:\n",
      "[[1043  247]\n",
      " [ 398 2523]]\n",
      "Accuracy: 0.8468\n",
      "------------------------------------------------------------------------------------------------------------------------------------------------------------\n",
      "\n",
      "Running model: GradientBoosting\n",
      "Classification Report:\n",
      "              precision    recall  f1-score   support\n",
      "\n",
      "           0       0.87      0.75      0.81      1290\n",
      "           1       0.90      0.95      0.92      2921\n",
      "\n",
      "    accuracy                           0.89      4211\n",
      "   macro avg       0.89      0.85      0.87      4211\n",
      "weighted avg       0.89      0.89      0.89      4211\n",
      "\n",
      "Confusion Matrix:\n",
      "[[ 972  318]\n",
      " [ 141 2780]]\n",
      "Accuracy: 0.8910\n",
      "------------------------------------------------------------------------------------------------------------------------------------------------------------\n"
     ]
    }
   ],
   "source": [
    "for model_name, model in models.items():\n",
    "    print(f\"\\nRunning model: {model_name}\")\n",
    "    model.fit(X_train, y_train)\n",
    "    y_pred = model.predict(X_test)\n",
    "\n",
    "    # Evaluate model\n",
    "    print(\"Classification Report:\")\n",
    "    print(classification_report(y_test, y_pred))\n",
    "    print(\"Confusion Matrix:\")\n",
    "    print(confusion_matrix(y_test, y_pred))\n",
    "    \n",
    "    # Accuracy\n",
    "    accuracy = accuracy_score(y_test, y_pred)\n",
    "    print(f\"Accuracy: {accuracy:.4f}\")\n",
    "    model_accuracies[model_name] = accuracy\n",
    "    \n",
    "    # selecting best model out of 4.....\n",
    "    if accuracy > best_accuracy:\n",
    "        best_accuracy = accuracy\n",
    "        best_model = model\n",
    "        best_model_name = model_name\n",
    "    \n",
    "    # Confusion matrix....\n",
    "    # ConfusionMatrixDisplay.from_estimator(model, X_test, y_test, cmap='Blues')\n",
    "    # plt.title(f'Confusion Matrix - {model_name}')\n",
    "    # plt.show()\n",
    "\n",
    "    # Cross-validation score....\n",
    "    # cv_scores = cross_val_score(model, X, y, cv=5)\n",
    "    # print(f'Cross-Validation Scores for {model_name}: {cv_scores}')\n",
    "    # print(f'Mean CV Score: {cv_scores.mean():.4f}')\n",
    "    print('------------------------------------------------------------------------------------------------------------------------------------------------------------')"
   ]
  },
  {
   "cell_type": "code",
   "execution_count": 9,
   "metadata": {},
   "outputs": [
    {
     "name": "stdout",
     "output_type": "stream",
     "text": [
      "\n",
      "The best model is GradientBoosting with accuracy: 0.8910\n",
      "Best model 'GradientBoosting' saved for future use.\n"
     ]
    }
   ],
   "source": [
    "if best_model:\n",
    "    print(f\"\\nThe best model is {best_model_name} with accuracy: {best_accuracy:.4f}\")\n",
    "    joblib.dump(best_model, f'best_pro_rev_ana_model_{best_model_name}.pkl')\n",
    "    print(f\"Best model '{best_model_name}' saved for future use.\")"
   ]
  }
 ],
 "metadata": {
  "kernelspec": {
   "display_name": "Python 3",
   "language": "python",
   "name": "python3"
  },
  "language_info": {
   "codemirror_mode": {
    "name": "ipython",
    "version": 3
   },
   "file_extension": ".py",
   "mimetype": "text/x-python",
   "name": "python",
   "nbconvert_exporter": "python",
   "pygments_lexer": "ipython3",
   "version": "3.12.0"
  }
 },
 "nbformat": 4,
 "nbformat_minor": 2
}
