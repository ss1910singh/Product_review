{
 "cells": [
  {
   "cell_type": "code",
   "execution_count": null,
   "metadata": {},
   "outputs": [],
   "source": [
    "import pandas as pd\n",
    "import numpy as np\n",
    "import nltk\n",
    "import string\n",
    "\n",
    "nltk.download('punkt', force=True)\n",
    "nltk.download('stopwords', force=True)\n",
    "nltk.download('wordnet', quiet=True)"
   ]
  },
  {
   "cell_type": "code",
   "execution_count": null,
   "metadata": {},
   "outputs": [],
   "source": [
    "try:\n",
    "    nltk.data.find('tokenizers/punkt')\n",
    "    nltk.data.find('corpora/stopwords')\n",
    "    print(\"All NLTK resources are available.\")\n",
    "except LookupError as e:\n",
    "    print(f\"Error: {e}\")\n"
   ]
  },
  {
   "cell_type": "markdown",
   "metadata": {},
   "source": [
    "Loading Dataset."
   ]
  },
  {
   "cell_type": "code",
   "execution_count": null,
   "metadata": {},
   "outputs": [],
   "source": [
    "data = pd.read_csv('../data/Amazon_Reviews.csv')\n",
    "print(\"Original Data Sample:\")\n",
    "data.head()"
   ]
  },
  {
   "cell_type": "markdown",
   "metadata": {},
   "source": [
    "Selecting columbs to keep from dataset."
   ]
  },
  {
   "cell_type": "code",
   "execution_count": null,
   "metadata": {},
   "outputs": [],
   "source": [
    "columns_to_keep = ['Reviewer Name', 'Rating', 'Review Text']\n",
    "df = data[columns_to_keep]\n",
    "df.head()"
   ]
  },
  {
   "cell_type": "markdown",
   "metadata": {},
   "source": [
    "extracting number from rating"
   ]
  },
  {
   "cell_type": "code",
   "execution_count": null,
   "metadata": {},
   "outputs": [],
   "source": [
    "def extract_rating(rating_text):\n",
    "    try:\n",
    "        return int(rating_text.split()[1])\n",
    "    except:\n",
    "        return np.nan\n",
    "\n",
    "df['Rating'] = df['Rating'].apply(extract_rating)\n",
    "df.head()\n"
   ]
  },
  {
   "cell_type": "markdown",
   "metadata": {},
   "source": [
    "Droping empty cell."
   ]
  },
  {
   "cell_type": "code",
   "execution_count": null,
   "metadata": {},
   "outputs": [],
   "source": [
    "df.dropna(inplace=True)\n",
    "df.isnull().sum()"
   ]
  },
  {
   "cell_type": "markdown",
   "metadata": {},
   "source": [
    "extracting words,removing meaningless words"
   ]
  },
  {
   "cell_type": "code",
   "execution_count": null,
   "metadata": {},
   "outputs": [],
   "source": [
    "from nltk.corpus import stopwords\n",
    "from nltk.tokenize import word_tokenize\n",
    "from nltk.stem import WordNetLemmatizer\n",
    "\n",
    "lemmatizer = WordNetLemmatizer()\n",
    "stop_words = set(stopwords.words('english'))\n",
    "\n",
    "def preprocess_text(text):\n",
    "    if pd.isna(text): \n",
    "        return \"\"\n",
    "    try:\n",
    "        words = word_tokenize(text.lower())\n",
    "        cleaned_words = [\n",
    "            lemmatizer.lemmatize(word) for word in words\n",
    "            if word not in stop_words and word.isalpha()\n",
    "        ]\n",
    "        return ' '.join(cleaned_words)\n",
    "    except Exception as e:\n",
    "        print(f\"Error processing text: {text}\\n{e}\")\n",
    "        return text\n",
    "\n",
    "df['Cleaned_Review'] = df['Review Text'].apply(preprocess_text)\n",
    "print(\"\\nCleaned Data Sample:\")\n",
    "print(df[['Review Text', 'Cleaned_Review']].head())"
   ]
  },
  {
   "cell_type": "markdown",
   "metadata": {},
   "source": [
    "Sending processed data for further process."
   ]
  },
  {
   "cell_type": "code",
   "execution_count": null,
   "metadata": {},
   "outputs": [],
   "source": [
    "df.to_csv('cleaned_reviews_nltk.csv', index=False)\n",
    "df_cleaned = pd.read_csv('cleaned_reviews_nltk.csv')\n",
    "print(\"\\nCleaned Data Loaded from CSV:\")\n",
    "df_cleaned.head()"
   ]
  }
 ],
 "metadata": {
  "kernelspec": {
   "display_name": "Python 3",
   "language": "python",
   "name": "python3"
  },
  "language_info": {
   "codemirror_mode": {
    "name": "ipython",
    "version": 3
   },
   "file_extension": ".py",
   "mimetype": "text/x-python",
   "name": "python",
   "nbconvert_exporter": "python",
   "pygments_lexer": "ipython3",
   "version": "3.12.0"
  }
 },
 "nbformat": 4,
 "nbformat_minor": 2
}
