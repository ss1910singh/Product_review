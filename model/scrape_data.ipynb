{
 "cells": [
  {
   "cell_type": "code",
   "execution_count": null,
   "metadata": {},
   "outputs": [],
   "source": [
    "import requests\n",
    "from bs4 import BeautifulSoup"
   ]
  },
  {
   "cell_type": "code",
   "execution_count": null,
   "metadata": {},
   "outputs": [],
   "source": [
    "HEADERS = {\n",
    "    'User-Agent': 'Mozilla/5.0 (Windows NT 10.0; Win64; x64) AppleWebKit/537.36 (KHTML, like Gecko) Chrome/116.0.5845.188 Safari/537.36',\n",
    "    'Accept-Language': 'en-US,en;q=0.5'\n",
    "}\n",
    "\n",
    "URL =input(\"Enter url\")"
   ]
  },
  {
   "cell_type": "code",
   "execution_count": null,
   "metadata": {},
   "outputs": [],
   "source": [
    "response = requests.get(URL, headers=HEADERS)\n",
    "if response.status_code == 200:\n",
    "    soup = BeautifulSoup(response.text, 'html.parser')\n",
    "\n",
    "    product_title = soup.find('span', id='productTitle')\n",
    "    if product_title:\n",
    "        print(\"Product Title:\", product_title.get_text(strip=True))\n",
    "\n",
    "    feature_bullets = soup.find('div', id='feature-bullets')\n",
    "    if feature_bullets:\n",
    "        bullet_points = feature_bullets.find_all('li')\n",
    "        bullet_points_text = [li.get_text(strip=True) for li in bullet_points]\n",
    "        print(\"\\nFeature Bullets:\")\n",
    "        for bullet in bullet_points_text:\n",
    "            print(\"-\", bullet)\n",
    "\n",
    "    histogram_table = soup.find('ul', id='histogramTable')\n",
    "    if histogram_table:\n",
    "        print(\"\\nRating Histogram Data:\")\n",
    "        rating_items = histogram_table.find_all('li')\n",
    "        for item in rating_items:\n",
    "            print(\"-\", item.get_text(strip=True))\n",
    "\n",
    "    card_padding = soup.find('div', class_='card-padding')\n",
    "    if card_padding:\n",
    "        a_row = card_padding.find('div', class_='a-row')\n",
    "        if a_row:\n",
    "            print(\"\\nData from Card Padding (A-Row):\")\n",
    "            print(a_row.get_text(strip=True))\n",
    "\n",
    "    review_list = soup.find_all('div', {'data-hook': 'review'})\n",
    "    if review_list:\n",
    "        print(\"\\nCustomer Reviews:\")\n",
    "        for review in review_list:\n",
    "            # Extracting reviewer name\n",
    "            reviewer_name = review.find('span', class_='a-profile-name')\n",
    "            reviewer_name_text = reviewer_name.get_text(strip=True) if reviewer_name else \"Unknown Reviewer\"\n",
    "\n",
    "            # Extracting rating\n",
    "            rating = review.find('i', {'data-hook': 'review-star-rating'})\n",
    "            rating_text = rating.get_text(strip=True) if rating else \"No rating\"\n",
    "\n",
    "            # Extracting review title\n",
    "            review_title = review.find('a', {'data-hook': 'review-title'})\n",
    "            review_title_text = review_title.get_text(strip=True) if review_title else \"No title\"\n",
    "\n",
    "            # Extracting review date\n",
    "            review_date = review.find('span', {'data-hook': 'review-date'})\n",
    "            review_date_text = review_date.get_text(strip=True) if review_date else \"No date\"\n",
    "\n",
    "            # Extracting review body\n",
    "            review_body = review.find('span', {'data-hook': 'review-body'})\n",
    "            review_body_text = review_body.get_text(strip=True) if review_body else \"No body\"\n",
    "\n",
    "            # Printing review details\n",
    "            print(f\"Reviewer Name: {reviewer_name_text}\")\n",
    "            print(f\"Rating: {rating_text}\")\n",
    "            print(f\"Review Title: {review_title_text}\")\n",
    "            print(f\"Date: {review_date_text}\")\n",
    "            print(f\"Review Body: {review_body_text}\\n\")\n",
    "\n",
    "    else:\n",
    "        print(\"No customer reviews found.\")\n",
    "else:\n",
    "    print(\"Failed to retrieve the webpage. Status code:\", response.status_code)"
   ]
  }
 ],
 "metadata": {
  "kernelspec": {
   "display_name": "Python 3",
   "language": "python",
   "name": "python3"
  },
  "language_info": {
   "codemirror_mode": {
    "name": "ipython",
    "version": 3
   },
   "file_extension": ".py",
   "mimetype": "text/x-python",
   "name": "python",
   "nbconvert_exporter": "python",
   "pygments_lexer": "ipython3",
   "version": "3.12.0"
  }
 },
 "nbformat": 4,
 "nbformat_minor": 2
}
