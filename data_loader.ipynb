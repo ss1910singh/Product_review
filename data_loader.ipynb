{
 "cells": [
  {
   "cell_type": "code",
   "execution_count": 1,
   "metadata": {},
   "outputs": [
    {
     "data": {
      "text/html": [
       "<div>\n",
       "<style scoped>\n",
       "    .dataframe tbody tr th:only-of-type {\n",
       "        vertical-align: middle;\n",
       "    }\n",
       "\n",
       "    .dataframe tbody tr th {\n",
       "        vertical-align: top;\n",
       "    }\n",
       "\n",
       "    .dataframe thead th {\n",
       "        text-align: right;\n",
       "    }\n",
       "</style>\n",
       "<table border=\"1\" class=\"dataframe\">\n",
       "  <thead>\n",
       "    <tr style=\"text-align: right;\">\n",
       "      <th></th>\n",
       "      <th>Reviewer Name</th>\n",
       "      <th>Profile Link</th>\n",
       "      <th>Country</th>\n",
       "      <th>Review Count</th>\n",
       "      <th>Review Date</th>\n",
       "      <th>Rating</th>\n",
       "      <th>Review Title</th>\n",
       "      <th>Review Text</th>\n",
       "      <th>Date of Experience</th>\n",
       "    </tr>\n",
       "  </thead>\n",
       "  <tbody>\n",
       "    <tr>\n",
       "      <th>0</th>\n",
       "      <td>Eugene ath</td>\n",
       "      <td>/users/66e8185ff1598352d6b3701a</td>\n",
       "      <td>US</td>\n",
       "      <td>1 review</td>\n",
       "      <td>2024-09-16T13:44:26.000Z</td>\n",
       "      <td>Rated 1 out of 5 stars</td>\n",
       "      <td>A Store That Doesn't Want to Sell Anything</td>\n",
       "      <td>I registered on the website, tried to order a ...</td>\n",
       "      <td>September 16, 2024</td>\n",
       "    </tr>\n",
       "    <tr>\n",
       "      <th>1</th>\n",
       "      <td>Daniel ohalloran</td>\n",
       "      <td>/users/5d75e460200c1f6a6373648c</td>\n",
       "      <td>GB</td>\n",
       "      <td>9 reviews</td>\n",
       "      <td>2024-09-16T18:26:46.000Z</td>\n",
       "      <td>Rated 1 out of 5 stars</td>\n",
       "      <td>Had multiple orders one turned up and…</td>\n",
       "      <td>Had multiple orders one turned up and driver h...</td>\n",
       "      <td>September 16, 2024</td>\n",
       "    </tr>\n",
       "    <tr>\n",
       "      <th>2</th>\n",
       "      <td>p fisher</td>\n",
       "      <td>/users/546cfcf1000064000197b88f</td>\n",
       "      <td>GB</td>\n",
       "      <td>90 reviews</td>\n",
       "      <td>2024-09-16T21:47:39.000Z</td>\n",
       "      <td>Rated 1 out of 5 stars</td>\n",
       "      <td>I informed these reprobates</td>\n",
       "      <td>I informed these reprobates that I WOULD NOT B...</td>\n",
       "      <td>September 16, 2024</td>\n",
       "    </tr>\n",
       "    <tr>\n",
       "      <th>3</th>\n",
       "      <td>Greg Dunn</td>\n",
       "      <td>/users/62c35cdbacc0ea0012ccaffa</td>\n",
       "      <td>AU</td>\n",
       "      <td>5 reviews</td>\n",
       "      <td>2024-09-17T07:15:49.000Z</td>\n",
       "      <td>Rated 1 out of 5 stars</td>\n",
       "      <td>Advertise one price then increase it on website</td>\n",
       "      <td>I have bought from Amazon before and no proble...</td>\n",
       "      <td>September 17, 2024</td>\n",
       "    </tr>\n",
       "    <tr>\n",
       "      <th>4</th>\n",
       "      <td>Sheila Hannah</td>\n",
       "      <td>/users/5ddbe429478d88251550610e</td>\n",
       "      <td>GB</td>\n",
       "      <td>8 reviews</td>\n",
       "      <td>2024-09-16T18:37:17.000Z</td>\n",
       "      <td>Rated 1 out of 5 stars</td>\n",
       "      <td>If I could give a lower rate I would</td>\n",
       "      <td>If I could give a lower rate I would! I cancel...</td>\n",
       "      <td>September 16, 2024</td>\n",
       "    </tr>\n",
       "  </tbody>\n",
       "</table>\n",
       "</div>"
      ],
      "text/plain": [
       "      Reviewer Name                     Profile Link Country Review Count  \\\n",
       "0        Eugene ath  /users/66e8185ff1598352d6b3701a      US     1 review   \n",
       "1  Daniel ohalloran  /users/5d75e460200c1f6a6373648c      GB    9 reviews   \n",
       "2          p fisher  /users/546cfcf1000064000197b88f      GB   90 reviews   \n",
       "3         Greg Dunn  /users/62c35cdbacc0ea0012ccaffa      AU    5 reviews   \n",
       "4     Sheila Hannah  /users/5ddbe429478d88251550610e      GB    8 reviews   \n",
       "\n",
       "                Review Date                  Rating  \\\n",
       "0  2024-09-16T13:44:26.000Z  Rated 1 out of 5 stars   \n",
       "1  2024-09-16T18:26:46.000Z  Rated 1 out of 5 stars   \n",
       "2  2024-09-16T21:47:39.000Z  Rated 1 out of 5 stars   \n",
       "3  2024-09-17T07:15:49.000Z  Rated 1 out of 5 stars   \n",
       "4  2024-09-16T18:37:17.000Z  Rated 1 out of 5 stars   \n",
       "\n",
       "                                      Review Title  \\\n",
       "0       A Store That Doesn't Want to Sell Anything   \n",
       "1           Had multiple orders one turned up and…   \n",
       "2                      I informed these reprobates   \n",
       "3  Advertise one price then increase it on website   \n",
       "4             If I could give a lower rate I would   \n",
       "\n",
       "                                         Review Text  Date of Experience  \n",
       "0  I registered on the website, tried to order a ...  September 16, 2024  \n",
       "1  Had multiple orders one turned up and driver h...  September 16, 2024  \n",
       "2  I informed these reprobates that I WOULD NOT B...  September 16, 2024  \n",
       "3  I have bought from Amazon before and no proble...  September 17, 2024  \n",
       "4  If I could give a lower rate I would! I cancel...  September 16, 2024  "
      ]
     },
     "execution_count": 1,
     "metadata": {},
     "output_type": "execute_result"
    }
   ],
   "source": [
    "import pandas as pd\n",
    "data=pd.read_csv(\"data/Amazon_Reviews.csv\")\n",
    "data.head()"
   ]
  },
  {
   "cell_type": "code",
   "execution_count": 2,
   "metadata": {},
   "outputs": [
    {
     "data": {
      "text/plain": [
       "0    I registered on the website, tried to order a ...\n",
       "1    Had multiple orders one turned up and driver h...\n",
       "2    I informed these reprobates that I WOULD NOT B...\n",
       "3    I have bought from Amazon before and no proble...\n",
       "4    If I could give a lower rate I would! I cancel...\n",
       "Name: Review Text, dtype: object"
      ]
     },
     "execution_count": 2,
     "metadata": {},
     "output_type": "execute_result"
    }
   ],
   "source": [
    "data=data['Review Text']\n",
    "data.head()"
   ]
  },
  {
   "cell_type": "code",
   "execution_count": 3,
   "metadata": {},
   "outputs": [
    {
     "data": {
      "text/plain": [
       "0        I registered on the website, tried to order a ...\n",
       "1        Had multiple orders one turned up and driver h...\n",
       "2        I informed these reprobates that I WOULD NOT B...\n",
       "3        I have bought from Amazon before and no proble...\n",
       "4        If I could give a lower rate I would! I cancel...\n",
       "                               ...                        \n",
       "21209    I have had perfect order fulfillment, and fast...\n",
       "21210    I have had perfect order fulfillment, and fast...\n",
       "21211    I always find myself going back to amazon beco...\n",
       "21212    I have placed an abundance of orders with Amaz...\n",
       "21213    those goods i've ordered by Amazon.com, have b...\n",
       "Name: Review Text, Length: 21055, dtype: object"
      ]
     },
     "execution_count": 3,
     "metadata": {},
     "output_type": "execute_result"
    }
   ],
   "source": [
    "df=data.copy()\n",
    "df.dropna(inplace=True)\n",
    "df"
   ]
  }
 ],
 "metadata": {
  "kernelspec": {
   "display_name": "Python 3",
   "language": "python",
   "name": "python3"
  },
  "language_info": {
   "codemirror_mode": {
    "name": "ipython",
    "version": 3
   },
   "file_extension": ".py",
   "mimetype": "text/x-python",
   "name": "python",
   "nbconvert_exporter": "python",
   "pygments_lexer": "ipython3",
   "version": "3.12.0"
  }
 },
 "nbformat": 4,
 "nbformat_minor": 2
}
